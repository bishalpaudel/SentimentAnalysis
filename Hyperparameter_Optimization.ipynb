{
  "nbformat": 4,
  "nbformat_minor": 0,
  "metadata": {
    "colab": {
      "name": "Hyperparameter Optimization.ipynb",
      "provenance": [],
      "collapsed_sections": [],
      "authorship_tag": "ABX9TyObaBXo2SpJkZn3Vg1pPWhB",
      "include_colab_link": true
    },
    "kernelspec": {
      "name": "python3",
      "display_name": "Python 3"
    }
  },
  "cells": [
    {
      "cell_type": "markdown",
      "metadata": {
        "id": "view-in-github",
        "colab_type": "text"
      },
      "source": [
        "<a href=\"https://colab.research.google.com/github/bishalpaudel/SentimentAnalysis/blob/master/Hyperparameter_Optimization.ipynb\" target=\"_parent\"><img src=\"https://colab.research.google.com/assets/colab-badge.svg\" alt=\"Open In Colab\"/></a>"
      ]
    },
    {
      "cell_type": "code",
      "metadata": {
        "id": "7KHJDU_zWfEw",
        "colab_type": "code",
        "colab": {}
      },
      "source": [
        "!pip install scikit-optimize\n",
        "!pip install optuna"
      ],
      "execution_count": null,
      "outputs": []
    },
    {
      "cell_type": "code",
      "metadata": {
        "id": "6Dxl9mtpAyqG",
        "colab_type": "code",
        "colab": {}
      },
      "source": [
        "import pandas as pd\n",
        "import numpy as np\n",
        "\n",
        "from sklearn import ensemble, metrics, model_selection, preprocessing, decomposition, pipeline\n",
        "from functools import partial\n",
        "\n",
        "from skopt import space, gp_minimize\n",
        "\n",
        "from hyperopt import hp, fmin, tpe, Trials\n",
        "from hyperopt.pyll.base import scope\n",
        "\n",
        "import optuna"
      ],
      "execution_count": 19,
      "outputs": []
    },
    {
      "cell_type": "code",
      "metadata": {
        "id": "PE5YJ_kPMXSB",
        "colab_type": "code",
        "colab": {}
      },
      "source": [
        "def importFile():\n",
        "  from google.colab import drive\n",
        "  drive.mount('/content/drive')\n",
        "  train_raw = pd.read_csv(\"/content/drive/My Drive/AI/Optimization/train.csv\", delimiter=\",\")\n",
        "  test_raw = pd.read_csv(\"/content/drive/My Drive/AI/Optimization/test.csv\", delimiter=\",\")\n",
        "  return train_raw, test_raw"
      ],
      "execution_count": 3,
      "outputs": []
    },
    {
      "cell_type": "code",
      "metadata": {
        "id": "nXJIhRxUMbE1",
        "colab_type": "code",
        "colab": {}
      },
      "source": [
        "def grid_search(X, y):\n",
        "  classifier = ensemble.RandomForestClassifier(n_jobs=-1)\n",
        "  param_grid = {\n",
        "      \"n_estimators\": [100, 200, 300, 400],\n",
        "      \"max_depth\": [1, 3, 5, 7],\n",
        "      \"criterion\": [\"gini\", \"entropy\"],\n",
        "  }\n",
        "\n",
        "  model = model_selection.GridSearchCV(\n",
        "      estimator = classifier,\n",
        "      param_grid = param_grid,\n",
        "      scoring = \"accuracy\",\n",
        "      verbose = 10,\n",
        "      n_jobs = 1,\n",
        "      cv = 5\n",
        "  )\n",
        "\n",
        "  model.fit(X, y)\n",
        "\n",
        "  print(model.best_score_)\n",
        "  print(model.best_estimator_.get_params())"
      ],
      "execution_count": 4,
      "outputs": []
    },
    {
      "cell_type": "code",
      "metadata": {
        "id": "pOvd5XZjNRy3",
        "colab_type": "code",
        "colab": {}
      },
      "source": [
        "def random_search(X, y):\n",
        "  classifier = ensemble.RandomForestClassifier(n_jobs=-1)\n",
        "  param_grid = {\n",
        "      \"n_estimators\": np.arange(100, 1500, 100),\n",
        "      \"max_depth\": np.arange(1, 20),\n",
        "      \"criterion\": [\"gini\", \"entropy\"],\n",
        "  }\n",
        "\n",
        "  model = model_selection.RandomizedSearchCV(\n",
        "      estimator = classifier,\n",
        "      param_distributions = param_grid,\n",
        "      n_iter = 10,\n",
        "      scoring = \"accuracy\",\n",
        "      verbose = 10,\n",
        "      n_jobs = 1,\n",
        "      cv = 5\n",
        "  )\n",
        "\n",
        "  model.fit(X, y)\n",
        "\n",
        "  print(model.best_score_)\n",
        "  print(model.best_estimator_.get_params())"
      ],
      "execution_count": 5,
      "outputs": []
    },
    {
      "cell_type": "code",
      "metadata": {
        "id": "mNFCCu8dOq42",
        "colab_type": "code",
        "colab": {}
      },
      "source": [
        "def pipeline_random_search(X, y):\n",
        "  scl = preprocessing.StandardScaler()\n",
        "  pca = decomposition.PCA()\n",
        "  rf = ensemble.RandomForestClassifier(n_jobs=-1)\n",
        "\n",
        "  classifier = pipeline.Pipeline([(\"scaling\", scl), (\"pca\", pca), (\"rf\", rf)])\n",
        "\n",
        "  param_grid = {\n",
        "      \"pca__n_components\" : np.arange(5, 10),\n",
        "      \"rf__n_estimators\": np.arange(100, 1500, 100),\n",
        "      \"rf__max_depth\": np.arange(1, 20),\n",
        "      \"rf__criterion\": [\"gini\", \"entropy\"],\n",
        "  }\n",
        "\n",
        "  model = model_selection.RandomizedSearchCV(\n",
        "      estimator = classifier,\n",
        "      param_distributions = param_grid,\n",
        "      n_iter = 10,\n",
        "      scoring = \"accuracy\",\n",
        "      verbose = 10,\n",
        "      n_jobs = 1,\n",
        "      cv = 5\n",
        "  )\n",
        "\n",
        "  model.fit(X, y)\n",
        "\n",
        "  print(model.best_score_)\n",
        "  print(model.best_estimator_.get_params())"
      ],
      "execution_count": 6,
      "outputs": []
    },
    {
      "cell_type": "code",
      "metadata": {
        "id": "0EZzsl1eSAwV",
        "colab_type": "code",
        "colab": {}
      },
      "source": [
        "def optimize(params, param_names, x, y):\n",
        "  params = dict(zip(param_names, params))\n",
        "  model = ensemble.RandomForestClassifier(**params)\n",
        "  kf = model_selection.StratifiedKFold(n_splits=5)\n",
        "  accuracies = []\n",
        "\n",
        "  for idx in kf.split(X=x, y=y):\n",
        "    train_idx, test_idx = idx[0], idx[1]\n",
        "    xtrain = x[train_idx]\n",
        "    ytrain = y[train_idx]\n",
        "\n",
        "    xtest = x[test_idx]\n",
        "    ytest = y[test_idx]\n",
        "\n",
        "    model.fit(xtrain, ytrain)\n",
        "    preds = model.predict(xtest)\n",
        "    fold_acc = metrics.accuracy_score(ytest, preds)\n",
        "    accuracies.append(fold_acc)\n",
        "\n",
        "  return -1.0 * np.mean(accuracies)"
      ],
      "execution_count": 7,
      "outputs": []
    },
    {
      "cell_type": "code",
      "metadata": {
        "id": "8dM2IinDoZei",
        "colab_type": "code",
        "colab": {}
      },
      "source": [
        "def optuna_optimizer(trial, x, y):\n",
        "  criterion = trial.suggest_categorical(\"criterion\", [\"gini\", \"entropy\"])\n",
        "  n_estimators = trial.suggest_int(\"n_estimators\", 100, 1500)\n",
        "  max_depth = trial.suggest_int(\"max_depth\", 3, 15)\n",
        "  max_features = trial.suggest_uniform(\"max_features\", 0.01, 1.0)\n",
        "\n",
        "  model = ensemble.RandomForestClassifier(\n",
        "      criterion=criterion,\n",
        "      n_estimators=n_estimators,\n",
        "      max_depth=max_depth,\n",
        "      max_features=max_features\n",
        "  )\n",
        "  kf = model_selection.StratifiedKFold(n_splits=5)\n",
        "  accuracies = []\n",
        "\n",
        "  for idx in kf.split(X=x, y=y):\n",
        "    train_idx, test_idx = idx[0], idx[1]\n",
        "    xtrain = x[train_idx]\n",
        "    ytrain = y[train_idx]\n",
        "\n",
        "    xtest = x[test_idx]\n",
        "    ytest = y[test_idx]\n",
        "\n",
        "    model.fit(xtrain, ytrain)\n",
        "    preds = model.predict(xtest)\n",
        "    fold_acc = metrics.accuracy_score(ytest, preds)\n",
        "    accuracies.append(fold_acc)\n",
        "\n",
        "  return -1.0 * np.mean(accuracies)"
      ],
      "execution_count": 38,
      "outputs": []
    },
    {
      "cell_type": "code",
      "metadata": {
        "id": "Dm8xz_S8TpZ4",
        "colab_type": "code",
        "colab": {}
      },
      "source": [
        "def bayesian_optimization(X, y):\n",
        "  param_space = [\n",
        "      space.Integer(3, 15, name=\"max_depth\"),\n",
        "      space.Integer(100, 600, name=\"n_estimators\"),\n",
        "      space.Categorical([\"gini\", \"entropy\"], name=\"criterion\"),\n",
        "      space.Real(0.01, 1, prior=\"uniform\", name=\"max_features\")\n",
        "  ]\n",
        "\n",
        "  param_names = [\n",
        "    \"max_depth\",\n",
        "    \"n_estimators\",\n",
        "    \"criterion\",\n",
        "    \"max_features\"\n",
        "  ]\n",
        "\n",
        "  optimization_function = partial(\n",
        "      optimize,\n",
        "      param_names=param_names,\n",
        "      x=X,\n",
        "      y=y\n",
        "  )\n",
        "\n",
        "  result = gp_minimize(\n",
        "      optimization_function,\n",
        "      dimensions=param_space,\n",
        "      n_calls=15,\n",
        "      n_random_starts=10,\n",
        "      verbose=10\n",
        "  )\n",
        "\n",
        "  print(dict(zip(param_names, result.x)))"
      ],
      "execution_count": 8,
      "outputs": []
    },
    {
      "cell_type": "code",
      "metadata": {
        "id": "4VXEidZZe7aV",
        "colab_type": "code",
        "colab": {}
      },
      "source": [
        "def hyperopt_optimization():\n",
        "  param_space = {\n",
        "      \"max_depth\": scope.int(hp.quniform(\"max_depth\", 3, 15)),\n",
        "      \"n_estimators\": scope.int(hp.quniform(\"n_estimators\", 100, 600)),\n",
        "      \"criterion\": hp.choice(\"criterion\", [\"gini\", \"entropy\"]),\n",
        "      \"max_features\": hp.uniform(\"max_features\", 0.01, 1)\n",
        "  }\n",
        "\n",
        "  optimization_function = partial(\n",
        "      optimize,\n",
        "      x=X,\n",
        "      y=y\n",
        "  )\n",
        "\n",
        "  trials = Trials()\n",
        "\n",
        "  result = gp_minimize(\n",
        "      optimization_function,\n",
        "      dimensions=param_space,\n",
        "      n_calls=15,\n",
        "      n_random_starts=10,\n",
        "      verbose=10\n",
        "  )\n",
        "\n",
        "  print(dict(zip(param_names, result.x)))"
      ],
      "execution_count": 27,
      "outputs": []
    },
    {
      "cell_type": "code",
      "metadata": {
        "id": "RzcwVtKVmZJ-",
        "colab_type": "code",
        "colab": {}
      },
      "source": [
        "def optuna_optimization(X, y):\n",
        "  optimization_function = partial(optuna_optimizer, x=X, y=y)\n",
        "\n",
        "  study = optuna.create_study(direction=\"minimize\")\n",
        "  study.optimize(optimization_function, n_trials=15)"
      ],
      "execution_count": 36,
      "outputs": []
    },
    {
      "cell_type": "code",
      "metadata": {
        "id": "sHYwIl2bQxpN",
        "colab_type": "code",
        "colab": {
          "base_uri": "https://localhost:8080/",
          "height": 122
        },
        "outputId": "695fd87f-3ea9-4fd0-c6b4-275c76031cb7"
      },
      "source": [
        "  train_raw, test_raw = importFile()\n",
        "  X = train_raw.drop(\"price_range\", axis = 1).values\n",
        "  y = train_raw.price_range.values"
      ],
      "execution_count": 9,
      "outputs": [
        {
          "output_type": "stream",
          "text": [
            "Go to this URL in a browser: https://accounts.google.com/o/oauth2/auth?client_id=947318989803-6bn6qk8qdgf4n4g3pfee6491hc0brc4i.apps.googleusercontent.com&redirect_uri=urn%3aietf%3awg%3aoauth%3a2.0%3aoob&scope=email%20https%3a%2f%2fwww.googleapis.com%2fauth%2fdocs.test%20https%3a%2f%2fwww.googleapis.com%2fauth%2fdrive%20https%3a%2f%2fwww.googleapis.com%2fauth%2fdrive.photos.readonly%20https%3a%2f%2fwww.googleapis.com%2fauth%2fpeopleapi.readonly&response_type=code\n",
            "\n",
            "Enter your authorization code:\n",
            "··········\n",
            "Mounted at /content/drive\n"
          ],
          "name": "stdout"
        }
      ]
    },
    {
      "cell_type": "code",
      "metadata": {
        "id": "YB1mOBTcMdFp",
        "colab_type": "code",
        "colab": {}
      },
      "source": [
        "grid_search(X, y)"
      ],
      "execution_count": null,
      "outputs": []
    },
    {
      "cell_type": "code",
      "metadata": {
        "id": "R0e4y7s3N0xo",
        "colab_type": "code",
        "colab": {}
      },
      "source": [
        "random_search(X, y)"
      ],
      "execution_count": null,
      "outputs": []
    },
    {
      "cell_type": "code",
      "metadata": {
        "id": "UaGvlo2cQSJ3",
        "colab_type": "code",
        "colab": {}
      },
      "source": [
        "pipeline_random_search(X, y)"
      ],
      "execution_count": null,
      "outputs": []
    },
    {
      "cell_type": "code",
      "metadata": {
        "id": "1SP-m6XxVSux",
        "colab_type": "code",
        "colab": {}
      },
      "source": [
        "bayesian_optimization(X, y)"
      ],
      "execution_count": null,
      "outputs": []
    },
    {
      "cell_type": "code",
      "metadata": {
        "id": "Y8rOZm_xmVE5",
        "colab_type": "code",
        "colab": {
          "base_uri": "https://localhost:8080/",
          "height": 292
        },
        "outputId": "f15e9e10-9cca-4725-da78-eaf501bf2a9c"
      },
      "source": [
        "optuna_optimization(X, y)"
      ],
      "execution_count": 39,
      "outputs": [
        {
          "output_type": "stream",
          "text": [
            "[I 2020-09-02 16:40:34,190] Trial 0 finished with value: -0.8905000000000001 and parameters: {'criterion': 'gini', 'n_estimators': 795, 'max_depth': 8, 'max_features': 0.3665390990758131}. Best is trial 0 with value: -0.8905000000000001.\n",
            "[I 2020-09-02 16:41:05,163] Trial 1 finished with value: -0.8960000000000001 and parameters: {'criterion': 'gini', 'n_estimators': 1201, 'max_depth': 9, 'max_features': 0.45660113819010434}. Best is trial 1 with value: -0.8960000000000001.\n",
            "[I 2020-09-02 16:41:11,893] Trial 2 finished with value: -0.841 and parameters: {'criterion': 'gini', 'n_estimators': 342, 'max_depth': 4, 'max_features': 0.6397749556435658}. Best is trial 1 with value: -0.8960000000000001.\n",
            "[I 2020-09-02 16:41:34,514] Trial 3 finished with value: -0.8365 and parameters: {'criterion': 'gini', 'n_estimators': 1098, 'max_depth': 4, 'max_features': 0.6750073273149642}. Best is trial 1 with value: -0.8960000000000001.\n",
            "[I 2020-09-02 16:42:37,463] Trial 4 finished with value: -0.8795 and parameters: {'criterion': 'entropy', 'n_estimators': 1411, 'max_depth': 5, 'max_features': 0.8997360170221856}. Best is trial 1 with value: -0.8960000000000001.\n",
            "[I 2020-09-02 16:42:58,360] Trial 5 finished with value: -0.9045 and parameters: {'criterion': 'entropy', 'n_estimators': 550, 'max_depth': 10, 'max_features': 0.4027303638772012}. Best is trial 5 with value: -0.9045.\n",
            "[I 2020-09-02 16:43:49,363] Trial 6 finished with value: -0.9025000000000001 and parameters: {'criterion': 'entropy', 'n_estimators': 1285, 'max_depth': 7, 'max_features': 0.5834822572315888}. Best is trial 5 with value: -0.9045.\n",
            "[I 2020-09-02 16:44:24,634] Trial 7 finished with value: -0.893 and parameters: {'criterion': 'entropy', 'n_estimators': 1167, 'max_depth': 11, 'max_features': 0.27621181363793346}. Best is trial 5 with value: -0.9045.\n",
            "[I 2020-09-02 16:44:27,629] Trial 8 finished with value: -0.8355 and parameters: {'criterion': 'entropy', 'n_estimators': 149, 'max_depth': 11, 'max_features': 0.14096695155147035}. Best is trial 5 with value: -0.9045.\n",
            "[I 2020-09-02 16:44:41,609] Trial 9 finished with value: -0.8324999999999999 and parameters: {'criterion': 'gini', 'n_estimators': 1140, 'max_depth': 8, 'max_features': 0.10063915413025985}. Best is trial 5 with value: -0.9045.\n",
            "[I 2020-09-02 16:45:14,729] Trial 10 finished with value: -0.9095000000000001 and parameters: {'criterion': 'entropy', 'n_estimators': 602, 'max_depth': 15, 'max_features': 0.8927880930556469}. Best is trial 10 with value: -0.9095000000000001.\n",
            "[I 2020-09-02 16:45:56,529] Trial 11 finished with value: -0.9035 and parameters: {'criterion': 'entropy', 'n_estimators': 707, 'max_depth': 15, 'max_features': 0.976069465587661}. Best is trial 10 with value: -0.9095000000000001.\n",
            "[I 2020-09-02 16:46:22,796] Trial 12 finished with value: -0.9085000000000001 and parameters: {'criterion': 'entropy', 'n_estimators': 501, 'max_depth': 15, 'max_features': 0.8229545956015943}. Best is trial 10 with value: -0.9095000000000001.\n",
            "[I 2020-09-02 16:46:45,603] Trial 13 finished with value: -0.908 and parameters: {'criterion': 'entropy', 'n_estimators': 433, 'max_depth': 15, 'max_features': 0.8319567072219979}. Best is trial 10 with value: -0.9095000000000001.\n",
            "[I 2020-09-02 16:46:56,175] Trial 14 finished with value: -0.9019999999999999 and parameters: {'criterion': 'entropy', 'n_estimators': 206, 'max_depth': 13, 'max_features': 0.7885744800344835}. Best is trial 10 with value: -0.9095000000000001.\n"
          ],
          "name": "stderr"
        }
      ]
    }
  ]
}